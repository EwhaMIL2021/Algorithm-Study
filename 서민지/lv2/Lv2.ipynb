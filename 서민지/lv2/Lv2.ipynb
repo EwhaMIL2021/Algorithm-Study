{
 "cells": [
  {
   "cell_type": "markdown",
   "metadata": {},
   "source": [
    "## 1330 : 두 수 비교하기\n",
    "\n",
    "첫째 줄에 A와 B가 주어진다. A와 B는 공백 한 칸으로 구분되어져 있다.\n",
    "\n",
    "첫째 줄에 다음 세 가지 중 하나를 출력한다.\n",
    "\n",
    "A가 B보다 큰 경우에는 '>'를 출력한다.\n",
    "\n",
    "A가 B보다 작은 경우에는 '<'를 출력한다.\n",
    "\n",
    "A와 B가 같은 경우에는 '=='를 출력한다."
   ]
  },
  {
   "cell_type": "code",
   "execution_count": 4,
   "metadata": {},
   "outputs": [
    {
     "name": "stdout",
     "output_type": "stream",
     "text": [
      "1 10\n",
      "<\n"
     ]
    }
   ],
   "source": [
    "A,B = map(int,input().split())\n",
    "\n",
    "if (A>B): print(\">\")\n",
    "if (A<B): print(\"<\")\n",
    "if (A==B): print(\"==\")"
   ]
  },
  {
   "cell_type": "markdown",
   "metadata": {},
   "source": [
    "## 9498 : 시험 성적\n",
    "시험 점수를 입력받아 90 ~ 100점은 A, 80 ~ 89점은 B, 70 ~ 79점은 C, 60 ~ 69점은 D, 나머지 점수는 F를 출력하는 프로그램을 작성하시오.\n",
    "\n",
    "첫째 줄에 시험 점수가 주어진다. 시험 점수는 0보다 크거나 같고, 100보다 작거나 같은 정수이다."
   ]
  },
  {
   "cell_type": "code",
   "execution_count": 5,
   "metadata": {},
   "outputs": [
    {
     "name": "stdout",
     "output_type": "stream",
     "text": [
      "33\n",
      "F\n"
     ]
    }
   ],
   "source": [
    "score = int(input())\n",
    "\n",
    "if (score >= 90 and score <= 100): print(\"A\")\n",
    "elif (score >= 80 and score <=89): print(\"B\")\n",
    "elif (score >=70 and score <=79): print(\"C\")\n",
    "elif (score >=60 and score <=69): print(\"D\")\n",
    "else: print(\"F\")"
   ]
  },
  {
   "cell_type": "markdown",
   "metadata": {},
   "source": [
    "## 2753 : 윤년\n",
    "\n",
    "연도가 주어졌을 때, 윤년이면 1, 아니면 0을 출력하는 프로그램을 작성하시오.\n",
    "\n",
    "윤년은 연도가 4의 배수이면서, 100의 배수가 아닐 때 또는 400의 배수일 때이다."
   ]
  },
  {
   "cell_type": "code",
   "execution_count": 7,
   "metadata": {},
   "outputs": [
    {
     "name": "stdout",
     "output_type": "stream",
     "text": [
      "2000\n",
      "1\n"
     ]
    }
   ],
   "source": [
    "year = int(input())\n",
    "\n",
    "if ((year%4==0 and year%100!=0) or (year%400==0)): print(\"1\")\n",
    "else: print(\"0\")"
   ]
  },
  {
   "cell_type": "markdown",
   "metadata": {},
   "source": [
    "## 14681 : 사분면 고르기\n",
    "\n",
    "첫 줄에는 정수 x가 주어진다. (−1000 ≤ x ≤ 1000; x ≠ 0) 다음 줄에는 정수 y가 주어진다. (−1000 ≤ y ≤ 1000; y ≠ 0)\n",
    "\n",
    "점 (x, y)의 사분면 번호(1, 2, 3, 4 중 하나)를 출력한다."
   ]
  },
  {
   "cell_type": "code",
   "execution_count": 9,
   "metadata": {},
   "outputs": [
    {
     "name": "stdout",
     "output_type": "stream",
     "text": [
      "1\n",
      "-1\n",
      "4\n"
     ]
    }
   ],
   "source": [
    "x = int(input())\n",
    "y = int(input())\n",
    "\n",
    "if (x>0 and y>0): print(\"1\")\n",
    "elif (x<0 and y>0): print(\"2\")\n",
    "elif (x<0 and y<0): print(\"3\")\n",
    "else: print(\"4\")"
   ]
  }
 ],
 "metadata": {
  "kernelspec": {
   "display_name": "Python 3",
   "language": "python",
   "name": "python3"
  },
  "language_info": {
   "codemirror_mode": {
    "name": "ipython",
    "version": 3
   },
   "file_extension": ".py",
   "mimetype": "text/x-python",
   "name": "python",
   "nbconvert_exporter": "python",
   "pygments_lexer": "ipython3",
   "version": "3.8.5"
  }
 },
 "nbformat": 4,
 "nbformat_minor": 4
}
