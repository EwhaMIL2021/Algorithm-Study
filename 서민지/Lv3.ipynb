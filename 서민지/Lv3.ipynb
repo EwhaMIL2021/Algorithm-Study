{
 "cells": [
  {
   "cell_type": "markdown",
   "metadata": {},
   "source": [
    "## 2739 : 구구단\n",
    "\n",
    "N을 입력받은 뒤, 구구단 N단을 출력하는 프로그램을 작성하시오. 출력 형식에 맞춰서 출력하면 된다."
   ]
  },
  {
   "cell_type": "code",
   "execution_count": null,
   "metadata": {},
   "outputs": [],
   "source": [
    "num = int(input())\n",
    "\n",
    "for i in range(9):\n",
    "    print(num,\"*\",(i+1),\"=\",num*(i+1))"
   ]
  },
  {
   "cell_type": "markdown",
   "metadata": {},
   "source": [
    "## 10950 : A+B - 3\n",
    "\n",
    "두 정수 A와 B를 입력받은 다음, A+B를 출력하는 프로그램을 작성하시오.\n",
    "\n",
    "첫째 줄에 테스트 케이스의 개수 T가 주어진다.\n",
    "\n",
    "각 테스트 케이스는 한 줄로 이루어져 있으며, 각 줄에 A와 B가 주어진다. (0 < A, B < 10)\n",
    "\n",
    "각 테스트 케이스마다 A+B를 출력한다."
   ]
  },
  {
   "cell_type": "code",
   "execution_count": null,
   "metadata": {},
   "outputs": [],
   "source": [
    "T = int(input())\n",
    "\n",
    "for i in range(T):\n",
    "    a,b = map(int,input().split())\n",
    "    print(a+b)"
   ]
  },
  {
   "cell_type": "markdown",
   "metadata": {},
   "source": [
    "## 8393 : 합\n",
    "\n",
    "n이 주어졌을 때, 1부터 n까지 합을 구하는 프로그램을 작성하시오."
   ]
  },
  {
   "cell_type": "code",
   "execution_count": null,
   "metadata": {},
   "outputs": [],
   "source": [
    "n = int(input())\n",
    "sum_n = 0\n",
    "\n",
    "for i in range(n):\n",
    "    sum_n += (i+1)\n",
    "    \n",
    "print(sum_n)"
   ]
  },
  {
   "cell_type": "markdown",
   "metadata": {},
   "source": [
    "## 2741 : N 찍기\n",
    "\n",
    "자연수 N이 주어졌을 때, 1부터 N까지 한 줄에 하나씩 출력하는 프로그램을 작성하시오."
   ]
  },
  {
   "cell_type": "code",
   "execution_count": null,
   "metadata": {},
   "outputs": [],
   "source": [
    "n = int(input())\n",
    "for i in range(n):\n",
    "    print(i+1)"
   ]
  },
  {
   "cell_type": "markdown",
   "metadata": {},
   "source": [
    "## 2742 : 기찍 N\n",
    "\n",
    "자연수 N이 주어졌을 때, N부터 1까지 한 줄에 하나씩 출력하는 프로그램을 작성하시오."
   ]
  },
  {
   "cell_type": "code",
   "execution_count": null,
   "metadata": {},
   "outputs": [],
   "source": [
    "N = int(input())\n",
    "\n",
    "for i in range(N,0,-1):\n",
    "    print(i)"
   ]
  },
  {
   "cell_type": "markdown",
   "metadata": {},
   "source": [
    "## 11021 : A+B - 7\n",
    "\n",
    "각 테스트 케이스마다 \"Case #x: \"를 출력한 다음, A+B를 출력한다. 테스트 케이스 번호는 1부터 시작한다."
   ]
  },
  {
   "cell_type": "code",
   "execution_count": null,
   "metadata": {},
   "outputs": [],
   "source": [
    "T = int(input())\n",
    "\n",
    "for i in range(T):\n",
    "    a,b = map(int,input().split())\n",
    "    print(\"Case #\",i+1,\": \",a+b,sep='')"
   ]
  },
  {
   "cell_type": "markdown",
   "metadata": {},
   "source": [
    "## 11022 : A+B - 8\n",
    "\n",
    "각 테스트 케이스마다 \"Case #x: A + B = C\" 형식으로 출력한다. x는 테스트 케이스 번호이고 1부터 시작하며, C는 A+B이다."
   ]
  },
  {
   "cell_type": "code",
   "execution_count": null,
   "metadata": {},
   "outputs": [],
   "source": [
    "T = int(input())\n",
    "\n",
    "for i in range(T):\n",
    "    a,b = map(int,input().split())\n",
    "    print(\"Case #\",i+1,\": \",a,\" + \",b,\" = \",a+b,sep='')"
   ]
  },
  {
   "cell_type": "markdown",
   "metadata": {},
   "source": [
    "## 2438 : 별 찍기 - 1\n",
    "\n",
    "첫째 줄부터 N번째 줄까지 차례대로 별을 출력한다."
   ]
  },
  {
   "cell_type": "code",
   "execution_count": null,
   "metadata": {},
   "outputs": [],
   "source": [
    "star = int(input())\n",
    "\n",
    "for i in range(star):\n",
    "    print(\"*\"*(i+1))"
   ]
  },
  {
   "cell_type": "markdown",
   "metadata": {},
   "source": [
    "## 2439 : 별 찍기 - 2\n",
    "\n",
    "오른쪽 정렬해서 출력"
   ]
  },
  {
   "cell_type": "code",
   "execution_count": null,
   "metadata": {},
   "outputs": [],
   "source": [
    "n = int(input())\n",
    "\n",
    "for i in range(1,n+1):\n",
    "    star = \"*\"*i\n",
    "    print(star.rjust(n))"
   ]
  },
  {
   "cell_type": "markdown",
   "metadata": {},
   "source": [
    "## 10871 : X보다 작은 수\n",
    "\n",
    "정수 N개로 이루어진 수열 A와 정수 X가 주어진다. 이때, A에서 X보다 작은 수를 모두 출력하는 프로그램을 작성하시오.\n",
    "\n",
    "첫째 줄에 N과 X가 주어진다. (1 ≤ N, X ≤ 10,000)\n",
    "\n",
    "둘째 줄에 수열 A를 이루는 정수 N개가 주어진다. 주어지는 정수는 모두 1보다 크거나 같고, 10,000보다 작거나 같은 정수이다.\n",
    "\n",
    "X보다 작은 수를 입력받은 순서대로 공백으로 구분해 출력한다. X보다 작은 수는 적어도 하나 존재한다."
   ]
  },
  {
   "cell_type": "code",
   "execution_count": null,
   "metadata": {},
   "outputs": [],
   "source": [
    "N,X = map(int, input().split())\n",
    "A = list(map(int, input().split()))\n",
    "    \n",
    "for i in range(N):\n",
    "    if A[i] < X:\n",
    "        print(A[i], end=\" \")"
   ]
  }
 ],
 "metadata": {
  "kernelspec": {
   "display_name": "Python 3",
   "language": "python",
   "name": "python3"
  },
  "language_info": {
   "codemirror_mode": {
    "name": "ipython",
    "version": 3
   },
   "file_extension": ".py",
   "mimetype": "text/x-python",
   "name": "python",
   "nbconvert_exporter": "python",
   "pygments_lexer": "ipython3",
   "version": "3.8.5"
  }
 },
 "nbformat": 4,
 "nbformat_minor": 4
}
